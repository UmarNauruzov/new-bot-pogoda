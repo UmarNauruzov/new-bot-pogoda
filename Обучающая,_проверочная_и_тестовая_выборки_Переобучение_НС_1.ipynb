{
  "nbformat": 4,
  "nbformat_minor": 0,
  "metadata": {
    "colab": {
      "provenance": [],
      "include_colab_link": true
    },
    "kernelspec": {
      "name": "python3",
      "display_name": "Python 3"
    },
    "language_info": {
      "name": "python"
    },
    "accelerator": "GPU"
  },
  "cells": [
    {
      "cell_type": "markdown",
      "metadata": {
        "id": "view-in-github",
        "colab_type": "text"
      },
      "source": [
        "<a href=\"https://colab.research.google.com/github/UmarNauruzov/new-bot-pogoda/blob/master/%D0%9E%D0%B1%D1%83%D1%87%D0%B0%D1%8E%D1%89%D0%B0%D1%8F%2C_%D0%BF%D1%80%D0%BE%D0%B2%D0%B5%D1%80%D0%BE%D1%87%D0%BD%D0%B0%D1%8F_%D0%B8_%D1%82%D0%B5%D1%81%D1%82%D0%BE%D0%B2%D0%B0%D1%8F_%D0%B2%D1%8B%D0%B1%D0%BE%D1%80%D0%BA%D0%B8_%D0%9F%D0%B5%D1%80%D0%B5%D0%BE%D0%B1%D1%83%D1%87%D0%B5%D0%BD%D0%B8%D0%B5_%D0%9D%D0%A1_1.ipynb\" target=\"_parent\"><img src=\"https://colab.research.google.com/assets/colab-badge.svg\" alt=\"Open In Colab\"/></a>"
      ]
    },
    {
      "cell_type": "markdown",
      "metadata": {
        "id": "wG1FmWUXHy-s"
      },
      "source": [
        "#Задание"
      ]
    },
    {
      "cell_type": "markdown",
      "metadata": {
        "id": "3cLYSK8MIU7D"
      },
      "source": [
        "Используя модуль **datasets** библиотеки **sklearn**, загрузите базу вин (`.load_wine()`).\n",
        "\n",
        "Используя шаблон ноутбука, выполните загрузку, подготовку и предобработку данных. Обязательное условие: разделение данных на три выборки осуществляется по шаблону (изменять параметры подготовки данных запрещается)!\n",
        "\n",
        "Проведите серию экспериментов и добейтесь максимальной точности классификации на тестовой выборке выше 94%.\n",
        "\n",
        "---\n",
        "\n",
        "С помощью метода `.summary()` зафиксируйте количество параметров созданной вами нейронной сети.\n"
      ]
    },
    {
      "cell_type": "markdown",
      "metadata": {
        "id": "f6qN94mFJ8lC"
      },
      "source": [
        "#Шаблон ноутбука"
      ]
    },
    {
      "cell_type": "code",
      "metadata": {
        "id": "3eQX1X5PHEkI"
      },
      "source": [
        "# Последовательная модель НС\n",
        "from tensorflow.keras.models import Sequential      \n",
        "\n",
        "# Основные слои\n",
        "from tensorflow.keras.layers import Dense, Activation, Dropout, BatchNormalization \n",
        "\n",
        "# Утилиты для to_categorical()\n",
        "from tensorflow.keras import utils    \n",
        "\n",
        "# Алгоритмы оптимизации для обучения модели\n",
        "from tensorflow.keras.optimizers import Adam  \n",
        "\n",
        "# Библиотека для работы с массивами\n",
        "import numpy as np    \n",
        "\n",
        "# Отрисовка графиков\n",
        "import matplotlib.pyplot as plt    \n",
        "\n",
        "# Разделение данных на выборки\n",
        "from sklearn.model_selection import train_test_split \n",
        "\n",
        "# Для загрузки датасета\n",
        "from sklearn.datasets import load_wine                     \n",
        "\n",
        "# Отрисовка изображений в ноутбуке, а не в консоли или файле\n",
        "%matplotlib inline"
      ],
      "execution_count": null,
      "outputs": []
    },
    {
      "cell_type": "markdown",
      "metadata": {
        "id": "qNwEV1hkLYwa"
      },
      "source": [
        "##Описание базы\n",
        "\n",
        "1. Датасет состоит из набора данных о винах и их классах.\n",
        "2. Данные по одному вину хранятся в numpy-массиве `x_data`: (`13` параметров).\n",
        "3. В датасете `3` класса вин: `y_data`.\n",
        "4. Количество примеров: `178`."
      ]
    },
    {
      "cell_type": "code",
      "metadata": {
        "colab": {
          "base_uri": "https://localhost:8080/"
        },
        "id": "R7nBHaKTkNLN",
        "outputId": "f97f1d44-a5f6-49e4-bb6c-91b90b2f23d4"
      },
      "source": [
        "x_data = load_wine()['data']              # Загрузка набора данных о винах\n",
        "y_data = load_wine()['target']            # Загрузка классов вин\n",
        "\n",
        "print('Размерность x_data -', x_data.shape)\n",
        "print('Размерность y_data -', y_data.shape)\n",
        "print()\n",
        "\n",
        "# Вывод примера данных\n",
        "print('Данные по первому вину:',x_data[0])\n",
        "print('Класс вина:',y_data[0])"
      ],
      "execution_count": null,
      "outputs": [
        {
          "output_type": "stream",
          "name": "stdout",
          "text": [
            "Размерность x_data - (178, 13)\n",
            "Размерность y_data - (178,)\n",
            "\n",
            "Данные по первому вину: [1.423e+01 1.710e+00 2.430e+00 1.560e+01 1.270e+02 2.800e+00 3.060e+00\n",
            " 2.800e-01 2.290e+00 5.640e+00 1.040e+00 3.920e+00 1.065e+03]\n",
            "Класс вина: 0\n"
          ]
        }
      ]
    },
    {
      "cell_type": "markdown",
      "metadata": {
        "id": "SCsKSPhNMXQw"
      },
      "source": [
        "##Подготовка данных"
      ]
    },
    {
      "cell_type": "code",
      "metadata": {
        "id": "S7z-yghQcWsW",
        "colab": {
          "base_uri": "https://localhost:8080/"
        },
        "outputId": "b3bc8a02-af78-4699-df51-2a5a02a0c156"
      },
      "source": [
        "# Перевод в one hot encoding\n",
        "y_data = utils.to_categorical(y_data, 3)\n",
        "\n",
        "# Разбиение наборов на общую и тестовую выборки\n",
        "x_all, x_test, y_all, y_test = train_test_split(x_data, \n",
        "                                                y_data, \n",
        "                                                test_size=0.1, \n",
        "                                                shuffle=True, \n",
        "                                                random_state = 6)\n",
        "\n",
        "# Разбиение общей выборки на обучающую и проверочную \n",
        "x_train, x_val, y_train, y_val = train_test_split(x_all, \n",
        "                                                  y_all, \n",
        "                                                  test_size=0.1, \n",
        "                                                  shuffle=True, \n",
        "                                                  random_state = 6)\n",
        "\n",
        "print(x_train.shape)\n",
        "print(y_train.shape)\n",
        "print()\n",
        "print(x_val.shape)\n",
        "print(y_val.shape)"
      ],
      "execution_count": null,
      "outputs": [
        {
          "output_type": "stream",
          "name": "stdout",
          "text": [
            "(144, 13)\n",
            "(144, 3)\n",
            "\n",
            "(16, 13)\n",
            "(16, 3)\n"
          ]
        }
      ]
    },
    {
      "cell_type": "markdown",
      "source": [
        "*Обучение модели*\n",
        "\n"
      ],
      "metadata": {
        "id": "yDihg0O8OXMw"
      }
    },
    {
      "cell_type": "code",
      "metadata": {
        "id": "N7-1IW6F97BL"
      },
      "source": [
        "model = Sequential() # Последовательная модель нейронной сети\n"
      ],
      "execution_count": null,
      "outputs": []
    },
    {
      "cell_type": "code",
      "source": [
        "\n",
        "model.add(Dense(32, input_dim=x_train.shape[1], activation='relu'))\n",
        "model.add(Dense(16, activation='relu'))\n",
        "model.add(Dense(3, activation='softmax'))\n",
        "\n",
        "model.summary()"
      ],
      "metadata": {
        "colab": {
          "base_uri": "https://localhost:8080/"
        },
        "id": "jhFaWsePOd4m",
        "outputId": "a8c9e069-1ee8-4e36-c1ce-d4781f0becf0"
      },
      "execution_count": null,
      "outputs": [
        {
          "output_type": "stream",
          "name": "stdout",
          "text": [
            "Model: \"sequential_8\"\n",
            "_________________________________________________________________\n",
            " Layer (type)                Output Shape              Param #   \n",
            "=================================================================\n",
            " dense_23 (Dense)            (None, 32)                448       \n",
            "                                                                 \n",
            " dense_24 (Dense)            (None, 16)                528       \n",
            "                                                                 \n",
            " dense_25 (Dense)            (None, 3)                 51        \n",
            "                                                                 \n",
            "=================================================================\n",
            "Total params: 1,027\n",
            "Trainable params: 1,027\n",
            "Non-trainable params: 0\n",
            "_________________________________________________________________\n"
          ]
        }
      ]
    },
    {
      "cell_type": "code",
      "source": [
        "utils.plot_model(model, to_file='model_plot.png', show_shapes=True, show_layer_names=False)"
      ],
      "metadata": {
        "colab": {
          "base_uri": "https://localhost:8080/",
          "height": 422
        },
        "id": "T_CEi0qnSkVr",
        "outputId": "45d1e321-aa22-420e-ba15-b43338cfbb3c"
      },
      "execution_count": null,
      "outputs": [
        {
          "output_type": "execute_result",
          "data": {
            "image/png": "[encoded data removed]",
            "text/plain": [
              "<IPython.core.display.Image object>"
            ]
          },
          "metadata": {},
          "execution_count": 42
        }
      ]
    },
    {
      "cell_type": "code",
      "source": [
        "# Компиляция модели\n",
        "model.compile(optimizer='adam', \n",
        "              loss='categorical_crossentropy', \n",
        "              metrics=['accuracy'])\n",
        "\n"
      ],
      "metadata": {
        "id": "JFq2NspVQkaD"
      },
      "execution_count": null,
      "outputs": []
    },
    {
      "cell_type": "code",
      "source": [
        "# Обучение модели с заданными параметрами\n",
        "history = model.fit(x_train, y_train, \n",
        "                    epochs=85, \n",
        "                    batch_size=16, \n",
        "                    validation_data=(x_val, y_val))\n",
        "\n",
        "\n",
        "# Вывод графика обучения (точность)\n",
        "\n",
        "plt.plot(history.history['accuracy'])\n",
        "plt.plot(history.history['val_accuracy'])\n",
        "plt.show()\n",
        "\n",
        "# Вывод графика обучения (доля ошибки)\n",
        "\n",
        "plt.plot(history.history['loss'])\n",
        "plt.plot(history.history['val_loss'])\n",
        "plt.show()      "
      ],
      "metadata": {
        "colab": {
          "base_uri": "https://localhost:8080/"
        },
        "id": "XeOE3bDjOkhE",
        "outputId": "8087aeaf-db17-4bab-e505-d2fb4684723a"
      },
      "execution_count": null,
      "outputs": [
        {
          "output_type": "stream",
          "name": "stdout",
          "text": [
            "Epoch 1/85\n",
            "9/9 [==============================] - 2s 28ms/step - loss: 71.9228 - accuracy: 0.3194 - val_loss: 53.2243 - val_accuracy: 0.2500\n",
            "Epoch 2/85\n",
            "9/9 [==============================] - 0s 7ms/step - loss: 43.6040 - accuracy: 0.2917 - val_loss: 34.8088 - val_accuracy: 0.3750\n",
            "Epoch 3/85\n",
            "9/9 [==============================] - 0s 7ms/step - loss: 32.5223 - accuracy: 0.2222 - val_loss: 25.0689 - val_accuracy: 0.2500\n",
            "Epoch 4/85\n",
            "9/9 [==============================] - 0s 9ms/step - loss: 21.8751 - accuracy: 0.2361 - val_loss: 15.2612 - val_accuracy: 0.1875\n",
            "Epoch 5/85\n",
            "9/9 [==============================] - 0s 7ms/step - loss: 13.8000 - accuracy: 0.2708 - val_loss: 10.3919 - val_accuracy: 0.2500\n",
            "Epoch 6/85\n",
            "9/9 [==============================] - 0s 6ms/step - loss: 9.5026 - accuracy: 0.4097 - val_loss: 7.3136 - val_accuracy: 0.3125\n",
            "Epoch 7/85\n",
            "9/9 [==============================] - 0s 7ms/step - loss: 6.0164 - accuracy: 0.4306 - val_loss: 4.1392 - val_accuracy: 0.3750\n",
            "Epoch 8/85\n",
            "9/9 [==============================] - 0s 7ms/step - loss: 2.7409 - accuracy: 0.3819 - val_loss: 1.9547 - val_accuracy: 0.3125\n",
            "Epoch 9/85\n",
            "9/9 [==============================] - 0s 6ms/step - loss: 2.2066 - accuracy: 0.2639 - val_loss: 1.9760 - val_accuracy: 0.3125\n",
            "Epoch 10/85\n",
            "9/9 [==============================] - 0s 7ms/step - loss: 1.7501 - accuracy: 0.3264 - val_loss: 1.4571 - val_accuracy: 0.4375\n",
            "Epoch 11/85\n",
            "9/9 [==============================] - 0s 7ms/step - loss: 1.5051 - accuracy: 0.3889 - val_loss: 1.3760 - val_accuracy: 0.3750\n",
            "Epoch 12/85\n",
            "9/9 [==============================] - 0s 7ms/step - loss: 1.4926 - accuracy: 0.3819 - val_loss: 1.4111 - val_accuracy: 0.3750\n",
            "Epoch 13/85\n",
            "9/9 [==============================] - 0s 7ms/step - loss: 1.3372 - accuracy: 0.4236 - val_loss: 1.3636 - val_accuracy: 0.3750\n",
            "Epoch 14/85\n",
            "9/9 [==============================] - 0s 9ms/step - loss: 1.4355 - accuracy: 0.4167 - val_loss: 1.1604 - val_accuracy: 0.4375\n",
            "Epoch 15/85\n",
            "9/9 [==============================] - 0s 7ms/step - loss: 1.2442 - accuracy: 0.4306 - val_loss: 1.0799 - val_accuracy: 0.4375\n",
            "Epoch 16/85\n",
            "9/9 [==============================] - 0s 7ms/step - loss: 1.1327 - accuracy: 0.4722 - val_loss: 1.0656 - val_accuracy: 0.4375\n",
            "Epoch 17/85\n",
            "9/9 [==============================] - 0s 6ms/step - loss: 1.0426 - accuracy: 0.4792 - val_loss: 1.0004 - val_accuracy: 0.5000\n",
            "Epoch 18/85\n",
            "9/9 [==============================] - 0s 6ms/step - loss: 0.9788 - accuracy: 0.5208 - val_loss: 0.9924 - val_accuracy: 0.5000\n",
            "Epoch 19/85\n",
            "9/9 [==============================] - 0s 9ms/step - loss: 0.9363 - accuracy: 0.5278 - val_loss: 0.8901 - val_accuracy: 0.3750\n",
            "Epoch 20/85\n",
            "9/9 [==============================] - 0s 8ms/step - loss: 0.8842 - accuracy: 0.5625 - val_loss: 0.8259 - val_accuracy: 0.4375\n",
            "Epoch 21/85\n",
            "9/9 [==============================] - 0s 6ms/step - loss: 0.9321 - accuracy: 0.5556 - val_loss: 0.8166 - val_accuracy: 0.4375\n",
            "Epoch 22/85\n",
            "9/9 [==============================] - 0s 6ms/step - loss: 0.8790 - accuracy: 0.5625 - val_loss: 0.8384 - val_accuracy: 0.5625\n",
            "Epoch 23/85\n",
            "9/9 [==============================] - 0s 6ms/step - loss: 0.8034 - accuracy: 0.5903 - val_loss: 0.7214 - val_accuracy: 0.5625\n",
            "Epoch 24/85\n",
            "9/9 [==============================] - 0s 6ms/step - loss: 0.8484 - accuracy: 0.5833 - val_loss: 0.6690 - val_accuracy: 0.7500\n",
            "Epoch 25/85\n",
            "9/9 [==============================] - 0s 9ms/step - loss: 0.7672 - accuracy: 0.5903 - val_loss: 0.6393 - val_accuracy: 0.5625\n",
            "Epoch 26/85\n",
            "9/9 [==============================] - 0s 8ms/step - loss: 0.7533 - accuracy: 0.6875 - val_loss: 0.6664 - val_accuracy: 0.6250\n",
            "Epoch 27/85\n",
            "9/9 [==============================] - 0s 7ms/step - loss: 0.7126 - accuracy: 0.6389 - val_loss: 0.6483 - val_accuracy: 0.6875\n",
            "Epoch 28/85\n",
            "9/9 [==============================] - 0s 6ms/step - loss: 0.7027 - accuracy: 0.6736 - val_loss: 0.6024 - val_accuracy: 0.7500\n",
            "Epoch 29/85\n",
            "9/9 [==============================] - 0s 7ms/step - loss: 0.6754 - accuracy: 0.6736 - val_loss: 0.5604 - val_accuracy: 0.7500\n",
            "Epoch 30/85\n",
            "9/9 [==============================] - 0s 6ms/step - loss: 0.7369 - accuracy: 0.7083 - val_loss: 0.7651 - val_accuracy: 0.5625\n",
            "Epoch 31/85\n",
            "9/9 [==============================] - 0s 7ms/step - loss: 0.6446 - accuracy: 0.7222 - val_loss: 0.5455 - val_accuracy: 0.7500\n",
            "Epoch 32/85\n",
            "9/9 [==============================] - 0s 6ms/step - loss: 0.6451 - accuracy: 0.6806 - val_loss: 0.5298 - val_accuracy: 0.7500\n",
            "Epoch 33/85\n",
            "9/9 [==============================] - 0s 6ms/step - loss: 0.6634 - accuracy: 0.6806 - val_loss: 0.5533 - val_accuracy: 0.6875\n",
            "Epoch 34/85\n",
            "9/9 [==============================] - 0s 12ms/step - loss: 0.6439 - accuracy: 0.7500 - val_loss: 0.5122 - val_accuracy: 0.8125\n",
            "Epoch 35/85\n",
            "9/9 [==============================] - 0s 7ms/step - loss: 0.6585 - accuracy: 0.7431 - val_loss: 0.6304 - val_accuracy: 0.6250\n",
            "Epoch 36/85\n",
            "9/9 [==============================] - 0s 6ms/step - loss: 0.6316 - accuracy: 0.7361 - val_loss: 0.6570 - val_accuracy: 0.5625\n",
            "Epoch 37/85\n",
            "9/9 [==============================] - 0s 6ms/step - loss: 0.6995 - accuracy: 0.6806 - val_loss: 0.5725 - val_accuracy: 0.7500\n",
            "Epoch 38/85\n",
            "9/9 [==============================] - 0s 9ms/step - loss: 0.6236 - accuracy: 0.7083 - val_loss: 0.5392 - val_accuracy: 0.8125\n",
            "Epoch 39/85\n",
            "9/9 [==============================] - 0s 6ms/step - loss: 0.5754 - accuracy: 0.7986 - val_loss: 0.5057 - val_accuracy: 0.8125\n",
            "Epoch 40/85\n",
            "9/9 [==============================] - 0s 6ms/step - loss: 0.5995 - accuracy: 0.7361 - val_loss: 0.4692 - val_accuracy: 0.7500\n",
            "Epoch 41/85\n",
            "9/9 [==============================] - 0s 8ms/step - loss: 0.5882 - accuracy: 0.7361 - val_loss: 0.4665 - val_accuracy: 0.6875\n",
            "Epoch 42/85\n",
            "9/9 [==============================] - 0s 6ms/step - loss: 0.5480 - accuracy: 0.7917 - val_loss: 0.4796 - val_accuracy: 0.8750\n",
            "Epoch 43/85\n",
            "9/9 [==============================] - 0s 6ms/step - loss: 0.5492 - accuracy: 0.8264 - val_loss: 0.4885 - val_accuracy: 0.8125\n",
            "Epoch 44/85\n",
            "9/9 [==============================] - 0s 6ms/step - loss: 0.5653 - accuracy: 0.7986 - val_loss: 0.4751 - val_accuracy: 0.8750\n",
            "Epoch 45/85\n",
            "9/9 [==============================] - 0s 6ms/step - loss: 0.6339 - accuracy: 0.7222 - val_loss: 0.5281 - val_accuracy: 0.8125\n",
            "Epoch 46/85\n",
            "9/9 [==============================] - 0s 6ms/step - loss: 0.7294 - accuracy: 0.6736 - val_loss: 0.7144 - val_accuracy: 0.5625\n",
            "Epoch 47/85\n",
            "9/9 [==============================] - 0s 7ms/step - loss: 0.6193 - accuracy: 0.7778 - val_loss: 0.4981 - val_accuracy: 0.6875\n",
            "Epoch 48/85\n",
            "9/9 [==============================] - 0s 6ms/step - loss: 0.6189 - accuracy: 0.7083 - val_loss: 0.4385 - val_accuracy: 0.8750\n",
            "Epoch 49/85\n",
            "9/9 [==============================] - 0s 8ms/step - loss: 0.5384 - accuracy: 0.7778 - val_loss: 0.4206 - val_accuracy: 0.8750\n",
            "Epoch 50/85\n",
            "9/9 [==============================] - 0s 7ms/step - loss: 0.5692 - accuracy: 0.7569 - val_loss: 0.5432 - val_accuracy: 0.8125\n"
          ]
        }
      ]
    },
    {
      "cell_type": "code",
      "source": [
        "# Вывод значения точности распознавания на проверочной выборке по эпохам\n",
        "\n",
        "val_acc = history.history['val_accuracy']\n",
        "\n",
        "for i in range(5):\n",
        "    # .format() - метод форматирования данных при выводе\n",
        "    print('Эпоха: {:2} точность: {:5.1%}'.format(i, val_acc[i]))"
      ],
      "metadata": {
        "colab": {
          "base_uri": "https://localhost:8080/"
        },
        "id": "vNrGegkCS9vQ",
        "outputId": "61878e00-bf72-4bc7-f940-a42faea09147"
      },
      "execution_count": null,
      "outputs": [
        {
          "output_type": "stream",
          "name": "stdout",
          "text": [
            "Эпоха:  0 точность: 25.0%\n",
            "Эпоха:  1 точность: 37.5%\n",
            "Эпоха:  2 точность: 56.2%\n",
            "Эпоха:  3 точность: 56.2%\n",
            "Эпоха:  4 точность: 75.0%\n"
          ]
        }
      ]
    },
    {
      "cell_type": "code",
      "source": [
        "# Предсказание модели\n",
        "predictions = np.argmax(model.predict(x_test), axis=1)\n",
        "y_test_nums = np.argmax(y_test, axis=1)\n",
        "\n",
        "# Вывод результатов тестирования\n",
        "for i in range(len(x_test)):\n",
        "    print(f'Предсказано - {predictions[i]}, было {y_test_nums[i]}, {predictions[i] == y_test_nums[i]}')\n",
        "print(f'\\n Процент верных предсказаний - {(predictions == y_test_nums).mean()*100} %')"
      ],
      "metadata": {
        "colab": {
          "base_uri": "https://localhost:8080/"
        },
        "id": "xb6pok6sTsj2",
        "outputId": "30196094-1a9a-4ce1-da83-ec966ec563a7"
      },
      "execution_count": null,
      "outputs": [
        {
          "output_type": "stream",
          "name": "stdout",
          "text": [
            "1/1 [==============================] - 0s 55ms/step\n",
            "Предсказано - 0, было 0, True\n",
            "Предсказано - 1, было 1, True\n",
            "Предсказано - 1, было 1, True\n",
            "Предсказано - 1, было 1, True\n",
            "Предсказано - 1, было 0, False\n",
            "Предсказано - 0, было 0, True\n",
            "Предсказано - 1, было 1, True\n",
            "Предсказано - 1, было 1, True\n",
            "Предсказано - 1, было 1, True\n",
            "Предсказано - 0, было 0, True\n",
            "Предсказано - 0, было 0, True\n",
            "Предсказано - 1, было 1, True\n",
            "Предсказано - 2, было 2, True\n",
            "Предсказано - 1, было 0, False\n",
            "Предсказано - 1, было 1, True\n",
            "Предсказано - 0, было 0, True\n",
            "Предсказано - 0, было 0, True\n",
            "Предсказано - 0, было 0, True\n",
            "\n",
            " Процент верных предсказаний - 88.88888888888889 %\n"
          ]
        }
      ]
    },
    {
      "cell_type": "code",
      "source": [
        "from sklearn.datasets import load_wine\n",
        "from sklearn.preprocessing import StandardScaler\n",
        "from sklearn.model_selection import train_test_split\n",
        "from tensorflow.keras.models import Sequential\n",
        "from tensorflow.keras.layers import Dense\n",
        "from tensorflow.keras.optimizers import Adam\n",
        "\n",
        "# Загрузить набор данных вин\n",
        "data = load_wine()\n",
        "\n",
        "# Параметры\n",
        "X = data.data  # Признаки\n",
        "y = data.target  # Целевая переменная\n",
        "\n",
        "# Нормализация признаков\n",
        "scaler = StandardScaler()\n",
        "X = scaler.fit_transform(X)\n",
        "\n",
        "# Разбиение на тренировочный и тестовый наборы\n",
        "test_size = 0.2  # Размер тестового набора\n",
        "random_state = 42  # Фиксация случайности разбиения\n",
        "X_train, X_test, y_train, y_test = train_test_split(X, y, test_size=test_size, random_state=random_state)\n",
        "\n",
        "# Параметры нейронной сети\n",
        "input_shape = X.shape[1]  # Количество признаков\n",
        "output_shape = len(set(y))  # Количество классов\n",
        "hidden_layers = [32, 16]  # Количество нейронов в скрытых слоях\n",
        "activation = 'relu'  # Функция активации\n",
        "epochs = 100  # Количество эпох\n",
        "batch_size = 32  # Размер мини-батча\n",
        "learning_rate = 0.001  # Скорость обучения\n",
        "\n",
        "# Создание модели нейронной сети\n",
        "model = Sequential()\n",
        "model.add(Dense(hidden_layers[0], input_shape=(input_shape,), activation=activation))\n",
        "for i in range(1, len(hidden_layers)):\n",
        "    model.add(Dense(hidden_layers[i], activation=activation))\n",
        "model.add(Dense(output_shape, activation='softmax'))\n",
        "\n",
        "# Компиляция модели нейронной сети\n",
        "optimizer = Adam(lr=learning_rate)\n",
        "model.compile(optimizer=optimizer, loss='sparse_categorical_crossentropy', metrics=['accuracy'])\n",
        "\n",
        "# Обучение модели нейронной сети\n",
        "a = model.fit(X_train, y_train, epochs=epochs, batch_size=batch_size, validation_data=(X_test, y_test))"
      ],
      "metadata": {
        "colab": {
          "base_uri": "https://localhost:8080/"
        },
        "id": "UOTawGgYkcSn",
        "outputId": "e78a1ce8-8fdd-4fca-ae17-d73f89d9712a"
      },
      "execution_count": null,
      "outputs": [
        {
          "output_type": "stream",
          "name": "stderr",
          "text": [
            "WARNING:absl:`lr` is deprecated, please use `learning_rate` instead, or use the legacy optimizer, e.g.,tf.keras.optimizers.legacy.Adam.\n"
          ]
        },
        {
          "output_type": "stream",
          "name": "stdout",
          "text": [
            "Epoch 1/100\n",
            "5/5 [==============================] - 1s 56ms/step - loss: 1.2160 - accuracy: 0.3380 - val_loss: 1.1145 - val_accuracy: 0.4722\n",
            "Epoch 2/100\n",
            "5/5 [==============================] - 0s 16ms/step - loss: 1.1150 - accuracy: 0.3732 - val_loss: 1.0329 - val_accuracy: 0.4722\n",
            "Epoch 3/100\n",
            "5/5 [==============================] - 0s 12ms/step - loss: 1.0244 - accuracy: 0.4366 - val_loss: 0.9600 - val_accuracy: 0.4722\n",
            "Epoch 4/100\n",
            "5/5 [==============================] - 0s 15ms/step - loss: 0.9493 - accuracy: 0.4859 - val_loss: 0.8956 - val_accuracy: 0.5000\n",
            "Epoch 5/100\n",
            "5/5 [==============================] - 0s 15ms/step - loss: 0.8801 - accuracy: 0.5141 - val_loss: 0.8392 - val_accuracy: 0.5833\n",
            "Epoch 6/100\n",
            "5/5 [==============================] - 0s 12ms/step - loss: 0.8211 - accuracy: 0.5704 - val_loss: 0.7869 - val_accuracy: 0.6944\n",
            "Epoch 7/100\n",
            "5/5 [==============================] - 0s 16ms/step - loss: 0.7642 - accuracy: 0.6338 - val_loss: 0.7418 - val_accuracy: 0.7222\n",
            "Epoch 8/100\n",
            "5/5 [==============================] - 0s 12ms/step - loss: 0.7130 - accuracy: 0.7042 - val_loss: 0.6999 - val_accuracy: 0.7778\n",
            "Epoch 9/100\n",
            "5/5 [==============================] - 0s 16ms/step - loss: 0.6639 - accuracy: 0.7746 - val_loss: 0.6611 - val_accuracy: 0.8056\n",
            "Epoch 10/100\n",
            "5/5 [==============================] - 0s 19ms/step - loss: 0.6208 - accuracy: 0.8169 - val_loss: 0.6224 - val_accuracy: 0.8056\n",
            "Epoch 11/100\n",
            "5/5 [==============================] - 0s 20ms/step - loss: 0.5780 - accuracy: 0.8732 - val_loss: 0.5848 - val_accuracy: 0.8056\n",
            "Epoch 12/100\n",
            "5/5 [==============================] - 0s 19ms/step - loss: 0.5366 - accuracy: 0.9085 - val_loss: 0.5475 - val_accuracy: 0.8611\n",
            "Epoch 13/100\n",
            "5/5 [==============================] - 0s 15ms/step - loss: 0.4970 - accuracy: 0.9296 - val_loss: 0.5097 - val_accuracy: 0.8889\n",
            "Epoch 14/100\n",
            "5/5 [==============================] - 0s 18ms/step - loss: 0.4599 - accuracy: 0.9507 - val_loss: 0.4722 - val_accuracy: 0.8889\n",
            "Epoch 15/100\n",
            "5/5 [==============================] - 0s 20ms/step - loss: 0.4231 - accuracy: 0.9507 - val_loss: 0.4355 - val_accuracy: 0.9167\n",
            "Epoch 16/100\n",
            "5/5 [==============================] - 0s 17ms/step - loss: 0.3883 - accuracy: 0.9507 - val_loss: 0.4009 - val_accuracy: 0.9167\n",
            "Epoch 17/100\n",
            "5/5 [==============================] - 0s 18ms/step - loss: 0.3556 - accuracy: 0.9648 - val_loss: 0.3684 - val_accuracy: 0.9167\n",
            "Epoch 18/100\n",
            "5/5 [==============================] - 0s 20ms/step - loss: 0.3255 - accuracy: 0.9648 - val_loss: 0.3378 - val_accuracy: 0.9167\n",
            "Epoch 19/100\n",
            "5/5 [==============================] - 0s 19ms/step - loss: 0.2972 - accuracy: 0.9789 - val_loss: 0.3092 - val_accuracy: 0.9167\n",
            "Epoch 20/100\n",
            "5/5 [==============================] - 0s 14ms/step - loss: 0.2717 - accuracy: 0.9789 - val_loss: 0.2826 - val_accuracy: 0.9444\n",
            "Epoch 21/100\n",
            "5/5 [==============================] - 0s 17ms/step - loss: 0.2477 - accuracy: 0.9789 - val_loss: 0.2586 - val_accuracy: 0.9444\n",
            "Epoch 22/100\n",
            "5/5 [==============================] - 0s 17ms/step - loss: 0.2268 - accuracy: 0.9789 - val_loss: 0.2359 - val_accuracy: 0.9444\n",
            "Epoch 23/100\n",
            "5/5 [==============================] - 0s 18ms/step - loss: 0.2071 - accuracy: 0.9789 - val_loss: 0.2156 - val_accuracy: 1.0000\n",
            "Epoch 24/100\n",
            "5/5 [==============================] - 0s 18ms/step - loss: 0.1896 - accuracy: 0.9789 - val_loss: 0.1974 - val_accuracy: 1.0000\n",
            "Epoch 25/100\n",
            "5/5 [==============================] - 0s 19ms/step - loss: 0.1734 - accuracy: 0.9789 - val_loss: 0.1819 - val_accuracy: 1.0000\n",
            "Epoch 26/100\n",
            "5/5 [==============================] - 0s 18ms/step - loss: 0.1593 - accuracy: 0.9789 - val_loss: 0.1679 - val_accuracy: 1.0000\n",
            "Epoch 27/100\n",
            "5/5 [==============================] - 0s 15ms/step - loss: 0.1469 - accuracy: 0.9859 - val_loss: 0.1545 - val_accuracy: 1.0000\n",
            "Epoch 28/100\n",
            "5/5 [==============================] - 0s 18ms/step - loss: 0.1357 - accuracy: 0.9859 - val_loss: 0.1423 - val_accuracy: 1.0000\n",
            "Epoch 29/100\n",
            "5/5 [==============================] - 0s 18ms/step - loss: 0.1252 - accuracy: 0.9859 - val_loss: 0.1322 - val_accuracy: 1.0000\n",
            "Epoch 30/100\n",
            "5/5 [==============================] - 0s 19ms/step - loss: 0.1162 - accuracy: 0.9859 - val_loss: 0.1231 - val_accuracy: 1.0000\n",
            "Epoch 31/100\n",
            "5/5 [==============================] - 0s 17ms/step - loss: 0.1081 - accuracy: 0.9930 - val_loss: 0.1144 - val_accuracy: 1.0000\n",
            "Epoch 32/100\n",
            "5/5 [==============================] - 0s 23ms/step - loss: 0.1005 - accuracy: 0.9930 - val_loss: 0.1067 - val_accuracy: 1.0000\n",
            "Epoch 33/100\n",
            "5/5 [==============================] - 0s 16ms/step - loss: 0.0940 - accuracy: 0.9930 - val_loss: 0.0999 - val_accuracy: 1.0000\n",
            "Epoch 34/100\n",
            "5/5 [==============================] - 0s 18ms/step - loss: 0.0883 - accuracy: 0.9930 - val_loss: 0.0933 - val_accuracy: 1.0000\n",
            "Epoch 35/100\n",
            "5/5 [==============================] - 0s 20ms/step - loss: 0.0827 - accuracy: 0.9930 - val_loss: 0.0879 - val_accuracy: 1.0000\n",
            "Epoch 36/100\n",
            "5/5 [==============================] - 0s 19ms/step - loss: 0.0778 - accuracy: 0.9930 - val_loss: 0.0824 - val_accuracy: 1.0000\n",
            "Epoch 37/100\n",
            "5/5 [==============================] - 0s 12ms/step - loss: 0.0731 - accuracy: 0.9930 - val_loss: 0.0776 - val_accuracy: 1.0000\n",
            "Epoch 38/100\n",
            "5/5 [==============================] - 0s 11ms/step - loss: 0.0689 - accuracy: 0.9930 - val_loss: 0.0731 - val_accuracy: 1.0000\n",
            "Epoch 39/100\n",
            "5/5 [==============================] - 0s 16ms/step - loss: 0.0653 - accuracy: 0.9930 - val_loss: 0.0693 - val_accuracy: 1.0000\n",
            "Epoch 40/100\n",
            "5/5 [==============================] - 0s 15ms/step - loss: 0.0615 - accuracy: 0.9930 - val_loss: 0.0656 - val_accuracy: 1.0000\n",
            "Epoch 41/100\n",
            "5/5 [==============================] - 0s 15ms/step - loss: 0.0581 - accuracy: 0.9930 - val_loss: 0.0621 - val_accuracy: 1.0000\n",
            "Epoch 42/100\n",
            "5/5 [==============================] - 0s 15ms/step - loss: 0.0550 - accuracy: 0.9930 - val_loss: 0.0589 - val_accuracy: 1.0000\n",
            "Epoch 43/100\n",
            "5/5 [==============================] - 0s 15ms/step - loss: 0.0522 - accuracy: 0.9930 - val_loss: 0.0556 - val_accuracy: 1.0000\n",
            "Epoch 44/100\n",
            "5/5 [==============================] - 0s 16ms/step - loss: 0.0495 - accuracy: 1.0000 - val_loss: 0.0526 - val_accuracy: 1.0000\n",
            "Epoch 45/100\n",
            "5/5 [==============================] - 0s 15ms/step - loss: 0.0469 - accuracy: 1.0000 - val_loss: 0.0496 - val_accuracy: 1.0000\n",
            "Epoch 46/100\n",
            "5/5 [==============================] - 0s 11ms/step - loss: 0.0447 - accuracy: 1.0000 - val_loss: 0.0468 - val_accuracy: 1.0000\n",
            "Epoch 47/100\n",
            "5/5 [==============================] - 0s 11ms/step - loss: 0.0425 - accuracy: 1.0000 - val_loss: 0.0444 - val_accuracy: 1.0000\n",
            "Epoch 48/100\n",
            "5/5 [==============================] - 0s 14ms/step - loss: 0.0408 - accuracy: 1.0000 - val_loss: 0.0419 - val_accuracy: 1.0000\n",
            "Epoch 49/100\n",
            "5/5 [==============================] - 0s 14ms/step - loss: 0.0388 - accuracy: 1.0000 - val_loss: 0.0399 - val_accuracy: 1.0000\n",
            "Epoch 50/100\n",
            "5/5 [==============================] - 0s 10ms/step - loss: 0.0371 - accuracy: 1.0000 - val_loss: 0.0381 - val_accuracy: 1.0000\n",
            "Epoch 51/100\n",
            "5/5 [==============================] - 0s 14ms/step - loss: 0.0355 - accuracy: 1.0000 - val_loss: 0.0365 - val_accuracy: 1.0000\n",
            "Epoch 52/100\n",
            "5/5 [==============================] - 0s 14ms/step - loss: 0.0339 - accuracy: 1.0000 - val_loss: 0.0351 - val_accuracy: 1.0000\n",
            "Epoch 53/100\n",
            "5/5 [==============================] - 0s 15ms/step - loss: 0.0326 - accuracy: 1.0000 - val_loss: 0.0339 - val_accuracy: 1.0000\n",
            "Epoch 54/100\n",
            "5/5 [==============================] - 0s 16ms/step - loss: 0.0313 - accuracy: 1.0000 - val_loss: 0.0326 - val_accuracy: 1.0000\n",
            "Epoch 55/100\n",
            "5/5 [==============================] - 0s 14ms/step - loss: 0.0301 - accuracy: 1.0000 - val_loss: 0.0315 - val_accuracy: 1.0000\n",
            "Epoch 56/100\n",
            "5/5 [==============================] - 0s 12ms/step - loss: 0.0289 - accuracy: 1.0000 - val_loss: 0.0303 - val_accuracy: 1.0000\n",
            "Epoch 57/100\n",
            "5/5 [==============================] - 0s 10ms/step - loss: 0.0278 - accuracy: 1.0000 - val_loss: 0.0291 - val_accuracy: 1.0000\n",
            "Epoch 58/100\n",
            "5/5 [==============================] - 0s 15ms/step - loss: 0.0267 - accuracy: 1.0000 - val_loss: 0.0279 - val_accuracy: 1.0000\n",
            "Epoch 59/100\n",
            "5/5 [==============================] - 0s 12ms/step - loss: 0.0256 - accuracy: 1.0000 - val_loss: 0.0267 - val_accuracy: 1.0000\n",
            "Epoch 60/100\n",
            "5/5 [==============================] - 0s 15ms/step - loss: 0.0247 - accuracy: 1.0000 - val_loss: 0.0255 - val_accuracy: 1.0000\n",
            "Epoch 61/100\n",
            "5/5 [==============================] - 0s 13ms/step - loss: 0.0238 - accuracy: 1.0000 - val_loss: 0.0245 - val_accuracy: 1.0000\n",
            "Epoch 62/100\n",
            "5/5 [==============================] - 0s 12ms/step - loss: 0.0230 - accuracy: 1.0000 - val_loss: 0.0235 - val_accuracy: 1.0000\n",
            "Epoch 63/100\n",
            "5/5 [==============================] - 0s 15ms/step - loss: 0.0222 - accuracy: 1.0000 - val_loss: 0.0227 - val_accuracy: 1.0000\n",
            "Epoch 64/100\n",
            "5/5 [==============================] - 0s 11ms/step - loss: 0.0214 - accuracy: 1.0000 - val_loss: 0.0220 - val_accuracy: 1.0000\n",
            "Epoch 65/100\n",
            "5/5 [==============================] - 0s 14ms/step - loss: 0.0207 - accuracy: 1.0000 - val_loss: 0.0213 - val_accuracy: 1.0000\n",
            "Epoch 66/100\n",
            "5/5 [==============================] - 0s 15ms/step - loss: 0.0200 - accuracy: 1.0000 - val_loss: 0.0206 - val_accuracy: 1.0000\n",
            "Epoch 67/100\n",
            "5/5 [==============================] - 0s 14ms/step - loss: 0.0193 - accuracy: 1.0000 - val_loss: 0.0200 - val_accuracy: 1.0000\n",
            "Epoch 68/100\n",
            "5/5 [==============================] - 0s 16ms/step - loss: 0.0187 - accuracy: 1.0000 - val_loss: 0.0194 - val_accuracy: 1.0000\n",
            "Epoch 69/100\n",
            "5/5 [==============================] - 0s 11ms/step - loss: 0.0180 - accuracy: 1.0000 - val_loss: 0.0187 - val_accuracy: 1.0000\n",
            "Epoch 70/100\n",
            "5/5 [==============================] - 0s 12ms/step - loss: 0.0175 - accuracy: 1.0000 - val_loss: 0.0181 - val_accuracy: 1.0000\n",
            "Epoch 71/100\n",
            "5/5 [==============================] - 0s 16ms/step - loss: 0.0169 - accuracy: 1.0000 - val_loss: 0.0175 - val_accuracy: 1.0000\n",
            "Epoch 72/100\n",
            "5/5 [==============================] - 0s 12ms/step - loss: 0.0164 - accuracy: 1.0000 - val_loss: 0.0170 - val_accuracy: 1.0000\n",
            "Epoch 73/100\n",
            "5/5 [==============================] - 0s 11ms/step - loss: 0.0158 - accuracy: 1.0000 - val_loss: 0.0165 - val_accuracy: 1.0000\n",
            "Epoch 74/100\n",
            "5/5 [==============================] - 0s 12ms/step - loss: 0.0154 - accuracy: 1.0000 - val_loss: 0.0160 - val_accuracy: 1.0000\n",
            "Epoch 75/100\n",
            "5/5 [==============================] - 0s 16ms/step - loss: 0.0149 - accuracy: 1.0000 - val_loss: 0.0155 - val_accuracy: 1.0000\n",
            "Epoch 76/100\n",
            "5/5 [==============================] - 0s 16ms/step - loss: 0.0145 - accuracy: 1.0000 - val_loss: 0.0151 - val_accuracy: 1.0000\n",
            "Epoch 77/100\n",
            "5/5 [==============================] - 0s 11ms/step - loss: 0.0141 - accuracy: 1.0000 - val_loss: 0.0147 - val_accuracy: 1.0000\n",
            "Epoch 78/100\n",
            "5/5 [==============================] - 0s 12ms/step - loss: 0.0137 - accuracy: 1.0000 - val_loss: 0.0144 - val_accuracy: 1.0000\n",
            "Epoch 79/100\n",
            "5/5 [==============================] - 0s 15ms/step - loss: 0.0133 - accuracy: 1.0000 - val_loss: 0.0141 - val_accuracy: 1.0000\n",
            "Epoch 80/100\n",
            "5/5 [==============================] - 0s 15ms/step - loss: 0.0129 - accuracy: 1.0000 - val_loss: 0.0137 - val_accuracy: 1.0000\n",
            "Epoch 81/100\n",
            "5/5 [==============================] - 0s 11ms/step - loss: 0.0126 - accuracy: 1.0000 - val_loss: 0.0134 - val_accuracy: 1.0000\n",
            "Epoch 82/100\n",
            "5/5 [==============================] - 0s 16ms/step - loss: 0.0123 - accuracy: 1.0000 - val_loss: 0.0131 - val_accuracy: 1.0000\n",
            "Epoch 83/100\n",
            "5/5 [==============================] - 0s 11ms/step - loss: 0.0119 - accuracy: 1.0000 - val_loss: 0.0128 - val_accuracy: 1.0000\n",
            "Epoch 84/100\n",
            "5/5 [==============================] - 0s 12ms/step - loss: 0.0116 - accuracy: 1.0000 - val_loss: 0.0125 - val_accuracy: 1.0000\n",
            "Epoch 85/100\n",
            "5/5 [==============================] - 0s 11ms/step - loss: 0.0113 - accuracy: 1.0000 - val_loss: 0.0121 - val_accuracy: 1.0000\n",
            "Epoch 86/100\n",
            "5/5 [==============================] - 0s 15ms/step - loss: 0.0110 - accuracy: 1.0000 - val_loss: 0.0118 - val_accuracy: 1.0000\n",
            "Epoch 87/100\n",
            "5/5 [==============================] - 0s 12ms/step - loss: 0.0108 - accuracy: 1.0000 - val_loss: 0.0115 - val_accuracy: 1.0000\n",
            "Epoch 88/100\n",
            "5/5 [==============================] - 0s 16ms/step - loss: 0.0105 - accuracy: 1.0000 - val_loss: 0.0113 - val_accuracy: 1.0000\n",
            "Epoch 89/100\n",
            "5/5 [==============================] - 0s 15ms/step - loss: 0.0102 - accuracy: 1.0000 - val_loss: 0.0110 - val_accuracy: 1.0000\n",
            "Epoch 90/100\n",
            "5/5 [==============================] - 0s 17ms/step - loss: 0.0100 - accuracy: 1.0000 - val_loss: 0.0108 - val_accuracy: 1.0000\n",
            "Epoch 91/100\n",
            "5/5 [==============================] - 0s 15ms/step - loss: 0.0097 - accuracy: 1.0000 - val_loss: 0.0106 - val_accuracy: 1.0000\n",
            "Epoch 92/100\n",
            "5/5 [==============================] - 0s 13ms/step - loss: 0.0095 - accuracy: 1.0000 - val_loss: 0.0103 - val_accuracy: 1.0000\n",
            "Epoch 93/100\n",
            "5/5 [==============================] - 0s 12ms/step - loss: 0.0093 - accuracy: 1.0000 - val_loss: 0.0101 - val_accuracy: 1.0000\n",
            "Epoch 94/100\n",
            "5/5 [==============================] - 0s 15ms/step - loss: 0.0091 - accuracy: 1.0000 - val_loss: 0.0099 - val_accuracy: 1.0000\n",
            "Epoch 95/100\n",
            "5/5 [==============================] - 0s 11ms/step - loss: 0.0089 - accuracy: 1.0000 - val_loss: 0.0097 - val_accuracy: 1.0000\n",
            "Epoch 96/100\n",
            "5/5 [==============================] - 0s 13ms/step - loss: 0.0087 - accuracy: 1.0000 - val_loss: 0.0095 - val_accuracy: 1.0000\n",
            "Epoch 97/100\n",
            "5/5 [==============================] - 0s 15ms/step - loss: 0.0084 - accuracy: 1.0000 - val_loss: 0.0093 - val_accuracy: 1.0000\n",
            "Epoch 98/100\n",
            "5/5 [==============================] - 0s 15ms/step - loss: 0.0083 - accuracy: 1.0000 - val_loss: 0.0091 - val_accuracy: 1.0000\n",
            "Epoch 99/100\n",
            "5/5 [==============================] - 0s 15ms/step - loss: 0.0081 - accuracy: 1.0000 - val_loss: 0.0089 - val_accuracy: 1.0000\n",
            "Epoch 100/100\n",
            "5/5 [==============================] - 0s 15ms/step - loss: 0.0079 - accuracy: 1.0000 - val_loss: 0.0088 - val_accuracy: 1.0000\n"
          ]
        }
      ]
    },
    {
      "cell_type": "markdown",
      "source": [],
      "metadata": {
        "id": "mQLD1tM1kcFW"
      }
    },
    {
      "cell_type": "code",
      "source": [
        "# Предсказание модели\n",
        "predictions = np.argmax(model.predict(X_test), axis=1)\n",
        "y_test_nums = np.argmax(y_test, axis=1)\n",
        "\n",
        "# Вывод результатов тестирования\n",
        "for i in range(len(X_test)):\n",
        "    print(f'Предсказано - {predictions[i]}, было {y_test_nums[i]}, {predictions[i] == y_test_nums[i]}')\n",
        "print(f'\\n Процент верных предсказаний - {(predictions == y_test_nums).mean()*100} %')"
      ],
      "metadata": {
        "colab": {
          "base_uri": "https://localhost:8080/",
          "height": 398
        },
        "id": "sFBtFe31k2BT",
        "outputId": "08644666-a7c2-4bb0-a939-518b8c0769e2"
      },
      "execution_count": null,
      "outputs": [
        {
          "output_type": "stream",
          "name": "stdout",
          "text": [
            "2/2 [==============================] - 0s 5ms/step\n"
          ]
        },
        {
          "output_type": "error",
          "ename": "AxisError",
          "evalue": "ignored",
          "traceback": [
            "\u001b[0;31m---------------------------------------------------------------------------\u001b[0m",
            "\u001b[0;31mAxisError\u001b[0m                                 Traceback (most recent call last)",
            "\u001b[0;32m<ipython-input-16-4b4ca7776486>\u001b[0m in \u001b[0;36m<module>\u001b[0;34m\u001b[0m\n\u001b[1;32m      1\u001b[0m \u001b[0;31m# Предсказание модели\u001b[0m\u001b[0;34m\u001b[0m\u001b[0;34m\u001b[0m\u001b[0;34m\u001b[0m\u001b[0m\n\u001b[1;32m      2\u001b[0m \u001b[0mpredictions\u001b[0m \u001b[0;34m=\u001b[0m \u001b[0mnp\u001b[0m\u001b[0;34m.\u001b[0m\u001b[0margmax\u001b[0m\u001b[0;34m(\u001b[0m\u001b[0mmodel\u001b[0m\u001b[0;34m.\u001b[0m\u001b[0mpredict\u001b[0m\u001b[0;34m(\u001b[0m\u001b[0mX_test\u001b[0m\u001b[0;34m)\u001b[0m\u001b[0;34m,\u001b[0m \u001b[0maxis\u001b[0m\u001b[0;34m=\u001b[0m\u001b[0;36m1\u001b[0m\u001b[0;34m)\u001b[0m\u001b[0;34m\u001b[0m\u001b[0;34m\u001b[0m\u001b[0m\n\u001b[0;32m----> 3\u001b[0;31m \u001b[0my_test_nums\u001b[0m \u001b[0;34m=\u001b[0m \u001b[0mnp\u001b[0m\u001b[0;34m.\u001b[0m\u001b[0margmax\u001b[0m\u001b[0;34m(\u001b[0m\u001b[0my_test\u001b[0m\u001b[0;34m,\u001b[0m \u001b[0maxis\u001b[0m\u001b[0;34m=\u001b[0m\u001b[0;36m1\u001b[0m\u001b[0;34m)\u001b[0m\u001b[0;34m\u001b[0m\u001b[0;34m\u001b[0m\u001b[0m\n\u001b[0m\u001b[1;32m      4\u001b[0m \u001b[0;34m\u001b[0m\u001b[0m\n\u001b[1;32m      5\u001b[0m \u001b[0;31m# Вывод результатов тестирования\u001b[0m\u001b[0;34m\u001b[0m\u001b[0;34m\u001b[0m\u001b[0;34m\u001b[0m\u001b[0m\n",
            "\u001b[0;32m/usr/local/lib/python3.8/dist-packages/numpy/core/overrides.py\u001b[0m in \u001b[0;36margmax\u001b[0;34m(*args, **kwargs)\u001b[0m\n",
            "\u001b[0;32m/usr/local/lib/python3.8/dist-packages/numpy/core/fromnumeric.py\u001b[0m in \u001b[0;36margmax\u001b[0;34m(a, axis, out, keepdims)\u001b[0m\n\u001b[1;32m   1214\u001b[0m     \"\"\"\n\u001b[1;32m   1215\u001b[0m     \u001b[0mkwds\u001b[0m \u001b[0;34m=\u001b[0m \u001b[0;34m{\u001b[0m\u001b[0;34m'keepdims'\u001b[0m\u001b[0;34m:\u001b[0m \u001b[0mkeepdims\u001b[0m\u001b[0;34m}\u001b[0m \u001b[0;32mif\u001b[0m \u001b[0mkeepdims\u001b[0m \u001b[0;32mis\u001b[0m \u001b[0;32mnot\u001b[0m \u001b[0mnp\u001b[0m\u001b[0;34m.\u001b[0m\u001b[0m_NoValue\u001b[0m \u001b[0;32melse\u001b[0m \u001b[0;34m{\u001b[0m\u001b[0;34m}\u001b[0m\u001b[0;34m\u001b[0m\u001b[0;34m\u001b[0m\u001b[0m\n\u001b[0;32m-> 1216\u001b[0;31m     \u001b[0;32mreturn\u001b[0m \u001b[0m_wrapfunc\u001b[0m\u001b[0;34m(\u001b[0m\u001b[0ma\u001b[0m\u001b[0;34m,\u001b[0m \u001b[0;34m'argmax'\u001b[0m\u001b[0;34m,\u001b[0m \u001b[0maxis\u001b[0m\u001b[0;34m=\u001b[0m\u001b[0maxis\u001b[0m\u001b[0;34m,\u001b[0m \u001b[0mout\u001b[0m\u001b[0;34m=\u001b[0m\u001b[0mout\u001b[0m\u001b[0;34m,\u001b[0m \u001b[0;34m**\u001b[0m\u001b[0mkwds\u001b[0m\u001b[0;34m)\u001b[0m\u001b[0;34m\u001b[0m\u001b[0;34m\u001b[0m\u001b[0m\n\u001b[0m\u001b[1;32m   1217\u001b[0m \u001b[0;34m\u001b[0m\u001b[0m\n\u001b[1;32m   1218\u001b[0m \u001b[0;34m\u001b[0m\u001b[0m\n",
            "\u001b[0;32m/usr/local/lib/python3.8/dist-packages/numpy/core/fromnumeric.py\u001b[0m in \u001b[0;36m_wrapfunc\u001b[0;34m(obj, method, *args, **kwds)\u001b[0m\n\u001b[1;32m     55\u001b[0m \u001b[0;34m\u001b[0m\u001b[0m\n\u001b[1;32m     56\u001b[0m     \u001b[0;32mtry\u001b[0m\u001b[0;34m:\u001b[0m\u001b[0;34m\u001b[0m\u001b[0;34m\u001b[0m\u001b[0m\n\u001b[0;32m---> 57\u001b[0;31m         \u001b[0;32mreturn\u001b[0m \u001b[0mbound\u001b[0m\u001b[0;34m(\u001b[0m\u001b[0;34m*\u001b[0m\u001b[0margs\u001b[0m\u001b[0;34m,\u001b[0m \u001b[0;34m**\u001b[0m\u001b[0mkwds\u001b[0m\u001b[0;34m)\u001b[0m\u001b[0;34m\u001b[0m\u001b[0;34m\u001b[0m\u001b[0m\n\u001b[0m\u001b[1;32m     58\u001b[0m     \u001b[0;32mexcept\u001b[0m \u001b[0mTypeError\u001b[0m\u001b[0;34m:\u001b[0m\u001b[0;34m\u001b[0m\u001b[0;34m\u001b[0m\u001b[0m\n\u001b[1;32m     59\u001b[0m         \u001b[0;31m# A TypeError occurs if the object does have such a method in its\u001b[0m\u001b[0;34m\u001b[0m\u001b[0;34m\u001b[0m\u001b[0;34m\u001b[0m\u001b[0m\n",
            "\u001b[0;31mAxisError\u001b[0m: axis 1 is out of bounds for array of dimension 1"
          ]
        }
      ]
    }
  ]
}